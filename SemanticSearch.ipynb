{
 "cells": [
  {
   "cell_type": "code",
   "execution_count": 3,
   "id": "49b18fe4-9c72-4870-bc3b-dd219aa35c34",
   "metadata": {},
   "outputs": [],
   "source": [
    "#Suppressing warnings\n",
    "import warnings\n",
    "warnings.filterwarnings(\"ignore\", category=UserWarning, module='tqdm')\n"
   ]
  },
  {
   "cell_type": "code",
   "execution_count": 4,
   "id": "4f283cfe-3798-4d37-b365-e28e4abb39c2",
   "metadata": {
    "scrolled": true
   },
   "outputs": [],
   "source": [
    "import faiss\n",
    "import numpy as np\n",
    "from sentence_transformers import SentenceTransformer"
   ]
  },
  {
   "cell_type": "code",
   "execution_count": 6,
   "id": "f1de0f65-6f61-4a3d-9b08-6629d74dbd68",
   "metadata": {},
   "outputs": [],
   "source": [
    "# List of ten questions\n",
    "questions = [\n",
    "    \"What is the origin of the Olympic Games?\",\n",
    "    \"Who holds the record for the most home runs in Major League Baseball history?\",\n",
    "    \"What is the difference between a hat trick and a natural hat trick in hockey?\",\n",
    "    \"How does the scoring system work in tennis?\",\n",
    "    \"Which country has won the most FIFA World Cup titles?\",\n",
    "    \"What are the primary differences between rugby league and rugby union?\",\n",
    "    \"Who is considered the greatest basketball player of all time?\",\n",
    "    \"How is the winner determined in a NASCAR race?\",\n",
    "    \"What is the Triple Crown in horse racing, and which horses have won it?\",\n",
    "    \"What are the key rules of professional boxing?\"\n",
    "]\n",
    "\n",
    "# Load the model and generate embeddings\n",
    "model = SentenceTransformer('all-MiniLM-L6-v2')\n",
    "embeddings = model.encode(questions)\n"
   ]
  },
  {
   "cell_type": "code",
   "execution_count": 7,
   "id": "3cf9018e-4a21-4bf4-9333-744787c031ef",
   "metadata": {},
   "outputs": [],
   "source": [
    "# Dimension of embeddings\n",
    "dimension = embeddings.shape[1]\n",
    "\n",
    "# Create FAISS index\n",
    "index = faiss.IndexFlatL2(dimension)\n",
    "\n",
    "# Normalize and add vectors to index\n",
    "faiss.normalize_L2(embeddings)\n",
    "index.add(embeddings)\n"
   ]
  },
  {
   "cell_type": "code",
   "execution_count": 12,
   "id": "aa52c608-4ee2-4339-aa7d-1994c26f4fd3",
   "metadata": {},
   "outputs": [],
   "source": [
    "# Example Query sentence\n",
    "query = \"Who is the best soccer player in the world?\"\n",
    "query_vector = model.encode([query])\n",
    "\n",
    "# Normalize the query vector\n",
    "faiss.normalize_L2(query_vector)\n",
    "\n",
    "# Search for the most similar sentences\n",
    "k = len(questions)  # Number of nearest neighbors to retrieve\n",
    "distances, indices = index.search(query_vector, k)\n"
   ]
  },
  {
   "cell_type": "code",
   "execution_count": 13,
   "id": "1072271c-31c7-4687-a756-3d033ba58705",
   "metadata": {},
   "outputs": [
    {
     "name": "stdout",
     "output_type": "stream",
     "text": [
      "Query: Who is the best soccer player in the world?\n",
      "\n",
      "Sentence: Who is considered the greatest basketball player of all time? - Distance: 0.9343\n",
      "Sentence: Which country has won the most FIFA World Cup titles? - Distance: 1.0627\n",
      "Sentence: Who holds the record for the most home runs in Major League Baseball history? - Distance: 1.4829\n",
      "Sentence: What are the key rules of professional boxing? - Distance: 1.5855\n",
      "Sentence: What is the origin of the Olympic Games? - Distance: 1.7260\n",
      "Sentence: How does the scoring system work in tennis? - Distance: 1.7360\n",
      "Sentence: What are the primary differences between rugby league and rugby union? - Distance: 1.7440\n",
      "Sentence: What is the Triple Crown in horse racing, and which horses have won it? - Distance: 1.7694\n",
      "Sentence: What is the difference between a hat trick and a natural hat trick in hockey? - Distance: 1.7817\n",
      "Sentence: How is the winner determined in a NASCAR race? - Distance: 1.8067\n"
     ]
    }
   ],
   "source": [
    "# Displaying the results\n",
    "results = [(questions[i], distances[0][j]) for j, i in enumerate(indices[0])]\n",
    "results.sort(key=lambda x: x[1])  # Sort by distance\n",
    "\n",
    "print(f\"Query: {query}\\n\")\n",
    "for result in results:\n",
    "    print(f\"Sentence: {result[0]} - Distance: {result[1]:.4f}\")\n"
   ]
  },
  {
   "cell_type": "code",
   "execution_count": null,
   "id": "f5f0c813-33df-4584-b602-acd35e47bfd3",
   "metadata": {},
   "outputs": [],
   "source": []
  }
 ],
 "metadata": {
  "kernelspec": {
   "display_name": "myenv",
   "language": "python",
   "name": "myenv"
  },
  "language_info": {
   "codemirror_mode": {
    "name": "ipython",
    "version": 3
   },
   "file_extension": ".py",
   "mimetype": "text/x-python",
   "name": "python",
   "nbconvert_exporter": "python",
   "pygments_lexer": "ipython3",
   "version": "3.12.4"
  }
 },
 "nbformat": 4,
 "nbformat_minor": 5
}
